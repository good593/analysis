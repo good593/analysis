{
 "cells": [
  {
   "cell_type": "markdown",
   "metadata": {},
   "source": [
    "- https://velog.io/@tobigs_xai/2%EC%A3%BC%EC%B0%A8-SHAP-SHapley-Additive-exPlanation"
   ]
  },
  {
   "cell_type": "code",
   "execution_count": 1,
   "metadata": {},
   "outputs": [
    {
     "ename": "ModuleNotFoundError",
     "evalue": "No module named 'shap'",
     "output_type": "error",
     "traceback": [
      "\u001b[0;31m---------------------------------------------------------------------------\u001b[0m",
      "\u001b[0;31mModuleNotFoundError\u001b[0m                       Traceback (most recent call last)",
      "\u001b[1;32m/Users/gyoungwon-cho/dev/github/analysis/model/shap/tree_shap.ipynb Cell 2'\u001b[0m in \u001b[0;36m<cell line: 7>\u001b[0;34m()\u001b[0m\n\u001b[1;32m      <a href='vscode-notebook-cell:/Users/gyoungwon-cho/dev/github/analysis/model/shap/tree_shap.ipynb#ch0000000?line=3'>4</a>\u001b[0m \u001b[39mfrom\u001b[39;00m \u001b[39mxgboost\u001b[39;00m \u001b[39mimport\u001b[39;00m XGBRegressor, plot_importance \n\u001b[1;32m      <a href='vscode-notebook-cell:/Users/gyoungwon-cho/dev/github/analysis/model/shap/tree_shap.ipynb#ch0000000?line=4'>5</a>\u001b[0m \u001b[39mfrom\u001b[39;00m \u001b[39msklearn\u001b[39;00m\u001b[39m.\u001b[39;00m\u001b[39mmodel_selection\u001b[39;00m \u001b[39mimport\u001b[39;00m train_test_split\n\u001b[0;32m----> <a href='vscode-notebook-cell:/Users/gyoungwon-cho/dev/github/analysis/model/shap/tree_shap.ipynb#ch0000000?line=6'>7</a>\u001b[0m \u001b[39mimport\u001b[39;00m \u001b[39mshap\u001b[39;00m\n",
      "\u001b[0;31mModuleNotFoundError\u001b[0m: No module named 'shap'"
     ]
    }
   ],
   "source": [
    "import pandas as pd \n",
    "import numpy as np \n",
    "\n",
    "from xgboost import XGBRegressor, plot_importance \n",
    "from sklearn.model_selection import train_test_split\n",
    "\n",
    "import shap "
   ]
  },
  {
   "cell_type": "code",
   "execution_count": 2,
   "metadata": {},
   "outputs": [
    {
     "name": "stdout",
     "output_type": "stream",
     "text": [
      "Collecting git+https://github.com/slundberg/shap.git\n",
      "  Cloning https://github.com/slundberg/shap.git to /private/var/folders/tv/05qbcb8954z9x1yvqv_kr2t80000gn/T/pip-req-build-m9lxil30\n",
      "  Running command git clone --filter=blob:none --quiet https://github.com/slundberg/shap.git /private/var/folders/tv/05qbcb8954z9x1yvqv_kr2t80000gn/T/pip-req-build-m9lxil30\n",
      "  Resolved https://github.com/slundberg/shap.git to commit 0662f4e9e6be38e658120079904899cccda59ff8\n",
      "  Installing build dependencies ... \u001b[?25ldone\n",
      "\u001b[?25h  Getting requirements to build wheel ... \u001b[?25ldone\n",
      "\u001b[?25h  Preparing metadata (pyproject.toml) ... \u001b[?25ldone\n",
      "\u001b[?25hRequirement already satisfied: tqdm>4.25.0 in /Users/gyoungwon-cho/.pyenv/versions/3.9-dev/envs/study3.9/lib/python3.9/site-packages (from shap==0.40.0) (4.64.0)\n",
      "Requirement already satisfied: scikit-learn in /Users/gyoungwon-cho/.pyenv/versions/3.9-dev/envs/study3.9/lib/python3.9/site-packages (from shap==0.40.0) (1.0.2)\n",
      "Requirement already satisfied: numpy<1.22 in /Users/gyoungwon-cho/.pyenv/versions/3.9-dev/envs/study3.9/lib/python3.9/site-packages (from shap==0.40.0) (1.21.6)\n",
      "Collecting cloudpickle\n",
      "  Using cached cloudpickle-2.0.0-py3-none-any.whl (25 kB)\n",
      "Requirement already satisfied: scipy in /Users/gyoungwon-cho/.pyenv/versions/3.9-dev/envs/study3.9/lib/python3.9/site-packages (from shap==0.40.0) (1.8.0)\n",
      "Requirement already satisfied: pandas in /Users/gyoungwon-cho/.pyenv/versions/3.9-dev/envs/study3.9/lib/python3.9/site-packages (from shap==0.40.0) (1.4.2)\n",
      "Requirement already satisfied: slicer==0.0.7 in /Users/gyoungwon-cho/.pyenv/versions/3.9-dev/envs/study3.9/lib/python3.9/site-packages (from shap==0.40.0) (0.0.7)\n",
      "Requirement already satisfied: packaging>20.9 in /Users/gyoungwon-cho/.pyenv/versions/3.9-dev/envs/study3.9/lib/python3.9/site-packages (from shap==0.40.0) (21.3)\n",
      "Collecting numba\n",
      "  Using cached numba-0.55.1-cp39-cp39-macosx_12_0_arm64.whl\n",
      "Requirement already satisfied: pyparsing!=3.0.5,>=2.0.2 in /Users/gyoungwon-cho/.pyenv/versions/3.9-dev/envs/study3.9/lib/python3.9/site-packages (from packaging>20.9->shap==0.40.0) (3.0.7)\n",
      "Requirement already satisfied: setuptools in /Users/gyoungwon-cho/.pyenv/versions/3.9-dev/envs/study3.9/lib/python3.9/site-packages (from numba->shap==0.40.0) (58.1.0)\n",
      "Collecting llvmlite<0.39,>=0.38.0rc1\n",
      "  Using cached llvmlite-0.38.0.tar.gz (129 kB)\n",
      "  Preparing metadata (setup.py) ... \u001b[?25ldone\n",
      "\u001b[?25hRequirement already satisfied: python-dateutil>=2.8.1 in /Users/gyoungwon-cho/.pyenv/versions/3.9-dev/envs/study3.9/lib/python3.9/site-packages (from pandas->shap==0.40.0) (2.8.2)\n",
      "Requirement already satisfied: pytz>=2020.1 in /Users/gyoungwon-cho/.pyenv/versions/3.9-dev/envs/study3.9/lib/python3.9/site-packages (from pandas->shap==0.40.0) (2022.1)\n",
      "Requirement already satisfied: threadpoolctl>=2.0.0 in /Users/gyoungwon-cho/.pyenv/versions/3.9-dev/envs/study3.9/lib/python3.9/site-packages (from scikit-learn->shap==0.40.0) (3.1.0)\n",
      "Requirement already satisfied: joblib>=0.11 in /Users/gyoungwon-cho/.pyenv/versions/3.9-dev/envs/study3.9/lib/python3.9/site-packages (from scikit-learn->shap==0.40.0) (1.1.0)\n",
      "Requirement already satisfied: six>=1.5 in /Users/gyoungwon-cho/.pyenv/versions/3.9-dev/envs/study3.9/lib/python3.9/site-packages (from python-dateutil>=2.8.1->pandas->shap==0.40.0) (1.16.0)\n",
      "Building wheels for collected packages: shap, llvmlite\n",
      "  Building wheel for shap (pyproject.toml) ... \u001b[?25ldone\n",
      "\u001b[?25h  Created wheel for shap: filename=shap-0.40.0-cp39-cp39-macosx_12_0_arm64.whl size=431248 sha256=83c7af59794d2be38b8e2e6dced79bb3b33817218f6ec2c25e3b78717bb37f7f\n",
      "  Stored in directory: /private/var/folders/tv/05qbcb8954z9x1yvqv_kr2t80000gn/T/pip-ephem-wheel-cache-y1q3x1p9/wheels/2c/ae/7b/4faf6ded0883c234766ea38da98f86ccc33dbbbdd2dfcfd740\n",
      "  Building wheel for llvmlite (setup.py) ... \u001b[?25lerror\n",
      "  \u001b[1;31merror\u001b[0m: \u001b[1msubprocess-exited-with-error\u001b[0m\n",
      "  \n",
      "  \u001b[31m×\u001b[0m \u001b[32mpython setup.py bdist_wheel\u001b[0m did not run successfully.\n",
      "  \u001b[31m│\u001b[0m exit code: \u001b[1;36m1\u001b[0m\n",
      "  \u001b[31m╰─>\u001b[0m \u001b[31m[11 lines of output]\u001b[0m\n",
      "  \u001b[31m   \u001b[0m running bdist_wheel\n",
      "  \u001b[31m   \u001b[0m /Users/gyoungwon-cho/.pyenv/versions/study3.9/bin/python /private/var/folders/tv/05qbcb8954z9x1yvqv_kr2t80000gn/T/pip-install-0tehp8w0/llvmlite_9db64b84131e4d29b2e1472622cee168/ffi/build.py\n",
      "  \u001b[31m   \u001b[0m LLVM version... Traceback (most recent call last):\n",
      "  \u001b[31m   \u001b[0m   File \"/private/var/folders/tv/05qbcb8954z9x1yvqv_kr2t80000gn/T/pip-install-0tehp8w0/llvmlite_9db64b84131e4d29b2e1472622cee168/ffi/build.py\", line 220, in <module>\n",
      "  \u001b[31m   \u001b[0m     main()\n",
      "  \u001b[31m   \u001b[0m   File \"/private/var/folders/tv/05qbcb8954z9x1yvqv_kr2t80000gn/T/pip-install-0tehp8w0/llvmlite_9db64b84131e4d29b2e1472622cee168/ffi/build.py\", line 214, in main\n",
      "  \u001b[31m   \u001b[0m     main_posix('osx', '.dylib')\n",
      "  \u001b[31m   \u001b[0m   File \"/private/var/folders/tv/05qbcb8954z9x1yvqv_kr2t80000gn/T/pip-install-0tehp8w0/llvmlite_9db64b84131e4d29b2e1472622cee168/ffi/build.py\", line 134, in main_posix\n",
      "  \u001b[31m   \u001b[0m     raise RuntimeError(msg) from None\n",
      "  \u001b[31m   \u001b[0m RuntimeError: Could not find a `llvm-config` binary. There are a number of reasons this could occur, please see: https://llvmlite.readthedocs.io/en/latest/admin-guide/install.html#using-pip for help.\n",
      "  \u001b[31m   \u001b[0m error: command '/Users/gyoungwon-cho/.pyenv/versions/study3.9/bin/python' failed with exit code 1\n",
      "  \u001b[31m   \u001b[0m \u001b[31m[end of output]\u001b[0m\n",
      "  \n",
      "  \u001b[1;35mnote\u001b[0m: This error originates from a subprocess, and is likely not a problem with pip.\n",
      "\u001b[31m  ERROR: Failed building wheel for llvmlite\u001b[0m\u001b[31m\n",
      "\u001b[0m\u001b[?25h  Running setup.py clean for llvmlite\n",
      "Successfully built shap\n",
      "Failed to build llvmlite\n",
      "Installing collected packages: llvmlite, cloudpickle, numba, shap\n",
      "  Running setup.py install for llvmlite ... \u001b[?25lerror\n",
      "  \u001b[1;31merror\u001b[0m: \u001b[1msubprocess-exited-with-error\u001b[0m\n",
      "  \n",
      "  \u001b[31m×\u001b[0m \u001b[32mRunning setup.py install for llvmlite\u001b[0m did not run successfully.\n",
      "  \u001b[31m│\u001b[0m exit code: \u001b[1;36m1\u001b[0m\n",
      "  \u001b[31m╰─>\u001b[0m \u001b[31m[14 lines of output]\u001b[0m\n",
      "  \u001b[31m   \u001b[0m running install\n",
      "  \u001b[31m   \u001b[0m running build\n",
      "  \u001b[31m   \u001b[0m got version from file /private/var/folders/tv/05qbcb8954z9x1yvqv_kr2t80000gn/T/pip-install-0tehp8w0/llvmlite_9db64b84131e4d29b2e1472622cee168/llvmlite/_version.py {'version': '0.38.0', 'full': 'f0365b91ce1e1f74c68785c6d0067f32f89857d9'}\n",
      "  \u001b[31m   \u001b[0m running build_ext\n",
      "  \u001b[31m   \u001b[0m /Users/gyoungwon-cho/.pyenv/versions/study3.9/bin/python /private/var/folders/tv/05qbcb8954z9x1yvqv_kr2t80000gn/T/pip-install-0tehp8w0/llvmlite_9db64b84131e4d29b2e1472622cee168/ffi/build.py\n",
      "  \u001b[31m   \u001b[0m LLVM version... Traceback (most recent call last):\n",
      "  \u001b[31m   \u001b[0m   File \"/private/var/folders/tv/05qbcb8954z9x1yvqv_kr2t80000gn/T/pip-install-0tehp8w0/llvmlite_9db64b84131e4d29b2e1472622cee168/ffi/build.py\", line 220, in <module>\n",
      "  \u001b[31m   \u001b[0m     main()\n",
      "  \u001b[31m   \u001b[0m   File \"/private/var/folders/tv/05qbcb8954z9x1yvqv_kr2t80000gn/T/pip-install-0tehp8w0/llvmlite_9db64b84131e4d29b2e1472622cee168/ffi/build.py\", line 214, in main\n",
      "  \u001b[31m   \u001b[0m     main_posix('osx', '.dylib')\n",
      "  \u001b[31m   \u001b[0m   File \"/private/var/folders/tv/05qbcb8954z9x1yvqv_kr2t80000gn/T/pip-install-0tehp8w0/llvmlite_9db64b84131e4d29b2e1472622cee168/ffi/build.py\", line 134, in main_posix\n",
      "  \u001b[31m   \u001b[0m     raise RuntimeError(msg) from None\n",
      "  \u001b[31m   \u001b[0m RuntimeError: Could not find a `llvm-config` binary. There are a number of reasons this could occur, please see: https://llvmlite.readthedocs.io/en/latest/admin-guide/install.html#using-pip for help.\n",
      "  \u001b[31m   \u001b[0m error: command '/Users/gyoungwon-cho/.pyenv/versions/study3.9/bin/python' failed with exit code 1\n",
      "  \u001b[31m   \u001b[0m \u001b[31m[end of output]\u001b[0m\n",
      "  \n",
      "  \u001b[1;35mnote\u001b[0m: This error originates from a subprocess, and is likely not a problem with pip.\n",
      "\u001b[?25h\u001b[1;31merror\u001b[0m: \u001b[1mlegacy-install-failure\u001b[0m\n",
      "\n",
      "\u001b[31m×\u001b[0m Encountered error while trying to install package.\n",
      "\u001b[31m╰─>\u001b[0m llvmlite\n",
      "\n",
      "\u001b[1;35mnote\u001b[0m: This is an issue with the package mentioned above, not pip.\n",
      "\u001b[1;36mhint\u001b[0m: See above for output from the failure.\n"
     ]
    }
   ],
   "source": [
    "!pip install git+https://github.com/slundberg/shap.git  "
   ]
  },
  {
   "cell_type": "code",
   "execution_count": 4,
   "metadata": {},
   "outputs": [
    {
     "name": "stdout",
     "output_type": "stream",
     "text": [
      "\u001b[33mWARNING: Requirement 'llvmlite‑0.35.0‑cp39‑cp39‑win_amd64.whl' looks like a filename, but the file does not exist\u001b[0m\u001b[33m\n",
      "\u001b[0m\u001b[31mERROR: llvmlite‑0.35.0‑cp39‑cp39‑win_amd64.whl is not a valid wheel filename.\u001b[0m\u001b[31m\n",
      "\u001b[0m"
     ]
    }
   ],
   "source": [
    "!pip install llvmlite‑0.35.0‑cp39‑cp39‑win_amd64.whl"
   ]
  },
  {
   "cell_type": "code",
   "execution_count": null,
   "metadata": {},
   "outputs": [],
   "source": []
  }
 ],
 "metadata": {
  "interpreter": {
   "hash": "f7e437f51093040c186fe1fdf3815d5791d8856d54a1d09b959b5ae0e56a4015"
  },
  "kernelspec": {
   "display_name": "Python 3.9.10 64-bit ('study3.9')",
   "language": "python",
   "name": "python3"
  },
  "language_info": {
   "codemirror_mode": {
    "name": "ipython",
    "version": 3
   },
   "file_extension": ".py",
   "mimetype": "text/x-python",
   "name": "python",
   "nbconvert_exporter": "python",
   "pygments_lexer": "ipython3",
   "version": "3.9.10+"
  },
  "orig_nbformat": 4
 },
 "nbformat": 4,
 "nbformat_minor": 2
}
