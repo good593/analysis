{
 "cells": [
  {
   "cell_type": "markdown",
   "metadata": {},
   "source": [
    "- https://pandas.pydata.org/docs/user_guide/io.html"
   ]
  },
  {
   "cell_type": "code",
   "execution_count": 7,
   "metadata": {},
   "outputs": [],
   "source": [
    "import pandas as pd\n",
    "import numpy as np"
   ]
  },
  {
   "cell_type": "markdown",
   "metadata": {},
   "source": [
    "# Creating\n",
    "### Series"
   ]
  },
  {
   "cell_type": "code",
   "execution_count": 6,
   "metadata": {},
   "outputs": [
    {
     "data": {
      "text/plain": [
       "(0    1\n",
       " 1    2\n",
       " 2    3\n",
       " 3    4\n",
       " 4    5\n",
       " 5    6\n",
       " dtype: int64,\n",
       " a    1.0\n",
       " b    2.2\n",
       " c    3.0\n",
       " d    4.5\n",
       " e    6.0\n",
       " f    7.0\n",
       " dtype: float64)"
      ]
     },
     "execution_count": 6,
     "metadata": {},
     "output_type": "execute_result"
    }
   ],
   "source": [
    "s1 = pd.Series([1, 2, 3, 4, 5, 6])\n",
    "s2 = pd.Series([1, 2.2, 3, 4.5, 6, 7], index=['a', 'b', 'c', 'd', 'e', 'f'])\n",
    "s1, s2"
   ]
  },
  {
   "cell_type": "markdown",
   "metadata": {},
   "source": [
    "### DataFrame"
   ]
  },
  {
   "cell_type": "code",
   "execution_count": 9,
   "metadata": {},
   "outputs": [
    {
     "name": "stdout",
     "output_type": "stream",
     "text": [
      "DatetimeIndex(['2013-01-01', '2013-01-02', '2013-01-03', '2013-01-04',\n",
      "               '2013-01-05', '2013-01-06'],\n",
      "              dtype='datetime64[ns]', freq='D')\n",
      "----------\n",
      "[[-0.75369154  1.13842469  0.37423729  0.14680415]\n",
      " [-1.40951249  0.43949237  0.32997301 -1.38318985]\n",
      " [-1.11281292  0.60954738 -0.59014959 -1.32065541]\n",
      " [ 1.00613874 -0.51462823  0.49840368 -1.49440466]\n",
      " [-0.55713322 -0.26256804 -1.03954832  0.17557805]\n",
      " [-1.02150737  0.68927084  0.4869062  -0.16979278]]\n",
      "----------\n",
      "['A', 'B', 'C', 'D']\n",
      "----------\n",
      "                   A         B         C         D\n",
      "2013-01-01 -0.753692  1.138425  0.374237  0.146804\n",
      "2013-01-02 -1.409512  0.439492  0.329973 -1.383190\n",
      "2013-01-03 -1.112813  0.609547 -0.590150 -1.320655\n",
      "2013-01-04  1.006139 -0.514628  0.498404 -1.494405\n",
      "2013-01-05 -0.557133 -0.262568 -1.039548  0.175578\n",
      "2013-01-06 -1.021507  0.689271  0.486906 -0.169793\n"
     ]
    }
   ],
   "source": [
    "df_idx = pd.date_range('20130101', periods=6)\n",
    "df_values = np.random.randn(6, 4)\n",
    "df_columns = list('ABCD')\n",
    "df = pd.DataFrame(df_values, index=df_idx, columns=df_columns)\n",
    "print(df_idx)\n",
    "print('-'*10)\n",
    "print(df_values)\n",
    "print('-'*10)\n",
    "print(df_columns)\n",
    "print('-'*10)\n",
    "print(df)"
   ]
  },
  {
   "cell_type": "markdown",
   "metadata": {},
   "source": [
    "> - 날짜 인덱스와 레이블이 지정된 열이 있는 Numpy 어레이를 전달함으로써 DataFrame을 만들 수 있습니다.  \n",
    "> - date_range() 함수를 사용하여 '20130101'를 시작으로 하는 6개의 DatetimeIndex를 만들었습니다.  \n",
    "> - 각 날짜마다 A, B, C, D 열에 해당하는 난수 데이터의 DataFrame이 만들어졌습니다."
   ]
  }
 ],
 "metadata": {
  "interpreter": {
   "hash": "819822aad1d7dd5a8911f6442f86af1dcc8bcd014a1dc82c30af569169ee7dac"
  },
  "kernelspec": {
   "display_name": "Python 3.9.10 64-bit ('pytorch3.9')",
   "language": "python",
   "name": "python3"
  },
  "language_info": {
   "codemirror_mode": {
    "name": "ipython",
    "version": 3
   },
   "file_extension": ".py",
   "mimetype": "text/x-python",
   "name": "python",
   "nbconvert_exporter": "python",
   "pygments_lexer": "ipython3",
   "version": "3.9.10"
  },
  "orig_nbformat": 4
 },
 "nbformat": 4,
 "nbformat_minor": 2
}
